{
 "cells": [
  {
   "cell_type": "markdown",
   "id": "1c5ab710",
   "metadata": {},
   "source": [
    "# Cleaning Data Exercises\n",
    "\n",
    "For the exercises, you will be cleaning data in your chosen data set. [Towards Data Science](https://towardsdatascience.com/data-cleaning-in-python-the-ultimate-guide-2020-c63b88bf0a0d) outlines the steps we should take to clean data using a different data set from Kaggle. While you should use this article as a reference, make sure not to copy paste as the two data sets are very different!\n",
    "\n",
    "To start cleaning data, we first need to create a dataframe from the CSV and print out any relevant info to make sure our dataframe is ready to go."
   ]
  },
  {
   "cell_type": "code",
   "execution_count": 2,
   "id": "da3513e0",
   "metadata": {},
   "outputs": [],
   "source": [
    "# Import pandas and any other libraries you need here. HINT: Check out the article to see what they imported to get started!\n",
    "import pandas as pd\n",
    "import numpy as np\n",
    "import seaborn as sns\n",
    "\n",
    "import matplotlib.pyplot as plt\n",
    "import matplotlib.mlab as mlab\n",
    "import matplotlib\n",
    "# Create a new dataframe from your CSV\n",
    "nyc_rats = pd.read_csv('Rat_Sightings.csv')"
   ]
  },
  {
   "cell_type": "code",
   "execution_count": 3,
   "id": "045387eb",
   "metadata": {},
   "outputs": [
    {
     "data": {
      "text/html": [
       "<div>\n",
       "<style scoped>\n",
       "    .dataframe tbody tr th:only-of-type {\n",
       "        vertical-align: middle;\n",
       "    }\n",
       "\n",
       "    .dataframe tbody tr th {\n",
       "        vertical-align: top;\n",
       "    }\n",
       "\n",
       "    .dataframe thead th {\n",
       "        text-align: right;\n",
       "    }\n",
       "</style>\n",
       "<table border=\"1\" class=\"dataframe\">\n",
       "  <thead>\n",
       "    <tr style=\"text-align: right;\">\n",
       "      <th></th>\n",
       "      <th>Unique Key</th>\n",
       "      <th>Created Date</th>\n",
       "      <th>Closed Date</th>\n",
       "      <th>Agency</th>\n",
       "      <th>Agency Name</th>\n",
       "      <th>Complaint Type</th>\n",
       "      <th>Descriptor</th>\n",
       "      <th>Location Type</th>\n",
       "      <th>Incident Zip</th>\n",
       "      <th>Incident Address</th>\n",
       "      <th>...</th>\n",
       "      <th>Bridge Highway Name</th>\n",
       "      <th>Bridge Highway Direction</th>\n",
       "      <th>Road Ramp</th>\n",
       "      <th>Bridge Highway Segment</th>\n",
       "      <th>Garage Lot Name</th>\n",
       "      <th>Ferry Direction</th>\n",
       "      <th>Ferry Terminal Name</th>\n",
       "      <th>Latitude</th>\n",
       "      <th>Longitude</th>\n",
       "      <th>Location</th>\n",
       "    </tr>\n",
       "  </thead>\n",
       "  <tbody>\n",
       "    <tr>\n",
       "      <th>0</th>\n",
       "      <td>31464015</td>\n",
       "      <td>09/04/2015 12:00:00 AM</td>\n",
       "      <td>09/18/2015 12:00:00 AM</td>\n",
       "      <td>DOHMH</td>\n",
       "      <td>Department of Health and Mental Hygiene</td>\n",
       "      <td>Rodent</td>\n",
       "      <td>Rat Sighting</td>\n",
       "      <td>3+ Family Mixed Use Building</td>\n",
       "      <td>10006.0</td>\n",
       "      <td>NaN</td>\n",
       "      <td>...</td>\n",
       "      <td>NaN</td>\n",
       "      <td>NaN</td>\n",
       "      <td>NaN</td>\n",
       "      <td>NaN</td>\n",
       "      <td>NaN</td>\n",
       "      <td>NaN</td>\n",
       "      <td>NaN</td>\n",
       "      <td>40.707772</td>\n",
       "      <td>-74.012963</td>\n",
       "      <td>(40.70777155363643, -74.01296309970473)</td>\n",
       "    </tr>\n",
       "    <tr>\n",
       "      <th>1</th>\n",
       "      <td>31464024</td>\n",
       "      <td>09/04/2015 12:00:00 AM</td>\n",
       "      <td>10/28/2015 12:00:00 AM</td>\n",
       "      <td>DOHMH</td>\n",
       "      <td>Department of Health and Mental Hygiene</td>\n",
       "      <td>Rodent</td>\n",
       "      <td>Rat Sighting</td>\n",
       "      <td>Commercial Building</td>\n",
       "      <td>10306.0</td>\n",
       "      <td>2270 HYLAN BOULEVARD</td>\n",
       "      <td>...</td>\n",
       "      <td>NaN</td>\n",
       "      <td>NaN</td>\n",
       "      <td>NaN</td>\n",
       "      <td>NaN</td>\n",
       "      <td>NaN</td>\n",
       "      <td>NaN</td>\n",
       "      <td>NaN</td>\n",
       "      <td>40.575209</td>\n",
       "      <td>-74.104547</td>\n",
       "      <td>(40.575209242947444, -74.1045465185469)</td>\n",
       "    </tr>\n",
       "    <tr>\n",
       "      <th>2</th>\n",
       "      <td>31464025</td>\n",
       "      <td>09/04/2015 12:00:00 AM</td>\n",
       "      <td>NaN</td>\n",
       "      <td>DOHMH</td>\n",
       "      <td>Department of Health and Mental Hygiene</td>\n",
       "      <td>Rodent</td>\n",
       "      <td>Rat Sighting</td>\n",
       "      <td>1-2 Family Dwelling</td>\n",
       "      <td>10310.0</td>\n",
       "      <td>758 POST AVENUE</td>\n",
       "      <td>...</td>\n",
       "      <td>NaN</td>\n",
       "      <td>NaN</td>\n",
       "      <td>NaN</td>\n",
       "      <td>NaN</td>\n",
       "      <td>NaN</td>\n",
       "      <td>NaN</td>\n",
       "      <td>NaN</td>\n",
       "      <td>40.631236</td>\n",
       "      <td>-74.126878</td>\n",
       "      <td>(40.63123555151668, -74.12687759748677)</td>\n",
       "    </tr>\n",
       "    <tr>\n",
       "      <th>3</th>\n",
       "      <td>31464026</td>\n",
       "      <td>09/04/2015 12:00:00 AM</td>\n",
       "      <td>09/14/2015 12:00:00 AM</td>\n",
       "      <td>DOHMH</td>\n",
       "      <td>Department of Health and Mental Hygiene</td>\n",
       "      <td>Rodent</td>\n",
       "      <td>Rat Sighting</td>\n",
       "      <td>3+ Family Apt. Building</td>\n",
       "      <td>11206.0</td>\n",
       "      <td>198 SCHOLES STREET</td>\n",
       "      <td>...</td>\n",
       "      <td>NaN</td>\n",
       "      <td>NaN</td>\n",
       "      <td>NaN</td>\n",
       "      <td>NaN</td>\n",
       "      <td>NaN</td>\n",
       "      <td>NaN</td>\n",
       "      <td>NaN</td>\n",
       "      <td>40.708987</td>\n",
       "      <td>-73.941207</td>\n",
       "      <td>(40.70898692345805, -73.94120690238431)</td>\n",
       "    </tr>\n",
       "    <tr>\n",
       "      <th>4</th>\n",
       "      <td>31464027</td>\n",
       "      <td>09/04/2015 12:00:00 AM</td>\n",
       "      <td>09/22/2015 12:00:00 AM</td>\n",
       "      <td>DOHMH</td>\n",
       "      <td>Department of Health and Mental Hygiene</td>\n",
       "      <td>Rodent</td>\n",
       "      <td>Rat Sighting</td>\n",
       "      <td>3+ Family Mixed Use Building</td>\n",
       "      <td>10462.0</td>\n",
       "      <td>2138 WALLACE AVENUE</td>\n",
       "      <td>...</td>\n",
       "      <td>NaN</td>\n",
       "      <td>NaN</td>\n",
       "      <td>NaN</td>\n",
       "      <td>NaN</td>\n",
       "      <td>NaN</td>\n",
       "      <td>NaN</td>\n",
       "      <td>NaN</td>\n",
       "      <td>40.854130</td>\n",
       "      <td>-73.864813</td>\n",
       "      <td>(40.85413014360452, -73.86481331044513)</td>\n",
       "    </tr>\n",
       "  </tbody>\n",
       "</table>\n",
       "<p>5 rows × 52 columns</p>\n",
       "</div>"
      ],
      "text/plain": [
       "   Unique Key            Created Date             Closed Date Agency  \\\n",
       "0    31464015  09/04/2015 12:00:00 AM  09/18/2015 12:00:00 AM  DOHMH   \n",
       "1    31464024  09/04/2015 12:00:00 AM  10/28/2015 12:00:00 AM  DOHMH   \n",
       "2    31464025  09/04/2015 12:00:00 AM                     NaN  DOHMH   \n",
       "3    31464026  09/04/2015 12:00:00 AM  09/14/2015 12:00:00 AM  DOHMH   \n",
       "4    31464027  09/04/2015 12:00:00 AM  09/22/2015 12:00:00 AM  DOHMH   \n",
       "\n",
       "                               Agency Name Complaint Type    Descriptor  \\\n",
       "0  Department of Health and Mental Hygiene         Rodent  Rat Sighting   \n",
       "1  Department of Health and Mental Hygiene         Rodent  Rat Sighting   \n",
       "2  Department of Health and Mental Hygiene         Rodent  Rat Sighting   \n",
       "3  Department of Health and Mental Hygiene         Rodent  Rat Sighting   \n",
       "4  Department of Health and Mental Hygiene         Rodent  Rat Sighting   \n",
       "\n",
       "                  Location Type  Incident Zip      Incident Address  ...  \\\n",
       "0  3+ Family Mixed Use Building       10006.0                   NaN  ...   \n",
       "1           Commercial Building       10306.0  2270 HYLAN BOULEVARD  ...   \n",
       "2           1-2 Family Dwelling       10310.0       758 POST AVENUE  ...   \n",
       "3       3+ Family Apt. Building       11206.0    198 SCHOLES STREET  ...   \n",
       "4  3+ Family Mixed Use Building       10462.0   2138 WALLACE AVENUE  ...   \n",
       "\n",
       "  Bridge Highway Name Bridge Highway Direction Road Ramp  \\\n",
       "0                 NaN                      NaN       NaN   \n",
       "1                 NaN                      NaN       NaN   \n",
       "2                 NaN                      NaN       NaN   \n",
       "3                 NaN                      NaN       NaN   \n",
       "4                 NaN                      NaN       NaN   \n",
       "\n",
       "  Bridge Highway Segment Garage Lot Name Ferry Direction Ferry Terminal Name  \\\n",
       "0                    NaN             NaN             NaN                 NaN   \n",
       "1                    NaN             NaN             NaN                 NaN   \n",
       "2                    NaN             NaN             NaN                 NaN   \n",
       "3                    NaN             NaN             NaN                 NaN   \n",
       "4                    NaN             NaN             NaN                 NaN   \n",
       "\n",
       "    Latitude  Longitude                                 Location  \n",
       "0  40.707772 -74.012963  (40.70777155363643, -74.01296309970473)  \n",
       "1  40.575209 -74.104547  (40.575209242947444, -74.1045465185469)  \n",
       "2  40.631236 -74.126878  (40.63123555151668, -74.12687759748677)  \n",
       "3  40.708987 -73.941207  (40.70898692345805, -73.94120690238431)  \n",
       "4  40.854130 -73.864813  (40.85413014360452, -73.86481331044513)  \n",
       "\n",
       "[5 rows x 52 columns]"
      ]
     },
     "execution_count": 3,
     "metadata": {},
     "output_type": "execute_result"
    }
   ],
   "source": [
    "# Print out any information you need to understand your dataframe\n",
    "nyc_rats.head()"
   ]
  },
  {
   "cell_type": "markdown",
   "id": "81717993",
   "metadata": {},
   "source": [
    "Now you have a dataframe set up, you are ready to dive in and start cleaning!"
   ]
  },
  {
   "cell_type": "markdown",
   "id": "303aee35",
   "metadata": {},
   "source": [
    "## Missing Data\n",
    "\n",
    "In the Towards Data Science article, they list 3 techniques for detecting any missing data frame. Try all three before deciding on a way to solve any missing data issues."
   ]
  },
  {
   "cell_type": "code",
   "execution_count": 3,
   "id": "68fd548c",
   "metadata": {},
   "outputs": [],
   "source": [
    "# Plot a heatmap of any missing data\n"
   ]
  },
  {
   "cell_type": "code",
   "execution_count": 4,
   "id": "0ae37b5d",
   "metadata": {},
   "outputs": [],
   "source": [
    "# Try out a missing data percentage list! \n"
   ]
  },
  {
   "cell_type": "code",
   "execution_count": 5,
   "id": "51c62f02",
   "metadata": {},
   "outputs": [],
   "source": [
    "# Plot a missing data histogram\n"
   ]
  },
  {
   "cell_type": "markdown",
   "id": "5e791fbe",
   "metadata": {},
   "source": [
    "Now that you have tried all 3 techniques for detecting missing data, did you find any? Reading through the article, which solution do you think will help you clean the data set and handle the missing data? Try out your solution below!"
   ]
  },
  {
   "cell_type": "code",
   "execution_count": 6,
   "id": "53c2d34c",
   "metadata": {},
   "outputs": [],
   "source": [
    "# Handle any missing data in your dataframe.\n"
   ]
  },
  {
   "cell_type": "markdown",
   "id": "be2121df",
   "metadata": {},
   "source": [
    "## Irregular Data\n",
    "\n",
    "With missing data out of the way, turn your attention to any outliers. Just as we did for missing data, we first need to detect the outliers. The article outlines the top techniques for finding outliers in a dataset."
   ]
  },
  {
   "cell_type": "code",
   "execution_count": 7,
   "id": "3a4f2cff",
   "metadata": {},
   "outputs": [],
   "source": [
    "# Plot a histogram to see if there are any outliers.\n"
   ]
  },
  {
   "cell_type": "code",
   "execution_count": 8,
   "id": "ae9008bb",
   "metadata": {},
   "outputs": [],
   "source": [
    "# Use the describe() method\n"
   ]
  },
  {
   "cell_type": "code",
   "execution_count": 9,
   "id": "4af44edf",
   "metadata": {},
   "outputs": [],
   "source": [
    "# Plot a bar chart\n"
   ]
  },
  {
   "cell_type": "markdown",
   "id": "da8d6080",
   "metadata": {},
   "source": [
    "Which of the three techniques helped you find any outliers? Now that you have found outliers, what will you do to solve the problem?"
   ]
  },
  {
   "cell_type": "code",
   "execution_count": 10,
   "id": "3ee7d694",
   "metadata": {},
   "outputs": [],
   "source": [
    "# Handle any outliers in your dataframe"
   ]
  },
  {
   "cell_type": "markdown",
   "id": "c802522d",
   "metadata": {},
   "source": [
    "## Unnecessary Data\n",
    "\n",
    "Unnecessary data could be duplicates, irrelevant, or any uninformative data. Dive into each type of unnecessary data to see if there is any in the data set. Make sure to make note of how you would handle each type of unnecessary data."
   ]
  },
  {
   "cell_type": "code",
   "execution_count": 11,
   "id": "8de40f50",
   "metadata": {},
   "outputs": [],
   "source": [
    "# Look for any irrelevant data in the dataframe. How will you handle it?"
   ]
  },
  {
   "cell_type": "code",
   "execution_count": null,
   "id": "888b49f1",
   "metadata": {},
   "outputs": [],
   "source": [
    "# Look for duplicates. How will you handle any duplicates?"
   ]
  },
  {
   "cell_type": "code",
   "execution_count": null,
   "id": "cbd6ee14",
   "metadata": {},
   "outputs": [],
   "source": [
    "# Think about what data in the dataframe may be uninformative. Make note here of what situations may render data uninformative and how you would handle it?"
   ]
  },
  {
   "cell_type": "markdown",
   "id": "bdcad93a",
   "metadata": {},
   "source": [
    "## Inconsistent Data\n",
    "\n",
    "Inconsistent data is anything that messes with your model. This is likely due to inconsistent formatting and can be addressed by re-formatting all values in a column or row."
   ]
  },
  {
   "cell_type": "code",
   "execution_count": null,
   "id": "4fc6bbb7",
   "metadata": {},
   "outputs": [],
   "source": [
    "# Try to convert all the strings in a column to lower or upper case. "
   ]
  }
 ],
 "metadata": {
  "kernelspec": {
   "display_name": "Python 3 (ipykernel)",
   "language": "python",
   "name": "python3"
  },
  "language_info": {
   "codemirror_mode": {
    "name": "ipython",
    "version": 3
   },
   "file_extension": ".py",
   "mimetype": "text/x-python",
   "name": "python",
   "nbconvert_exporter": "python",
   "pygments_lexer": "ipython3",
   "version": "3.9.7"
  }
 },
 "nbformat": 4,
 "nbformat_minor": 5
}
